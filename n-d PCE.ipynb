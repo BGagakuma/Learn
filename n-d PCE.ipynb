{
 "cells": [
  {
   "cell_type": "markdown",
   "metadata": {},
   "source": [
    "## n-d Expansions\n",
    "\n",
    "** the notes in this notebook were taken from [1].\n",
    "\n",
    "The multi-dimensional basis functions are orthogonal when the uncertain variables are independent.\n",
    "The values of the elements $\\ i_j$ of the multi-index depend on how the expansion is truncated, i.e., on how the index set $\\ \\mathcal{I}_p$ is defined. The two common ways to define the index set are total-order expansion, and tensor-product expansion.\n",
    "\n",
    "In total-order expansion a total polynomial order bound \\(p\\) is enforced:\n",
    "\n",
    "\\begin{align}\n",
    "\t\\mathcal{I}_p = \\{\\boldsymbol i:|\\boldsymbol i| \\leq p \\}, \\qquad |\\boldsymbol i|=i_1+i_2+\\cdots +i_n\\\\.\n",
    "\\end{align}\n",
    "\n",
    "For a second-order expansion $\\ p=2$ over two uncertain dimensions $\\ n=2$, the index set is\n",
    "\n",
    "\\begin{equation}\n",
    "  \\mathcal{I}_p = \\left \\{\\begin{array}{c}\n",
    "\t(i_1=0,i_2=0),(i_1=1,i_2=0),(i_1=0,i_2=1),\\\\\n",
    "    (i_1=2,i_2=0),(i_1=1,i_2=1),(i_1=0,i_2=2)\n",
    "\\end{array}\\right \\},\n",
    "\\end{equation}\n",
    "\n",
    "which produces the following multi-dimensional basis polynomials from $1$-dimensional Hermite polynomials that correspond to Normal uncertain variables:\n",
    "\n",
    "\\begin{equation}\n",
    "\\begin{alignedat}{2}\n",
    "  \\Phi_\\mathbf{0}(\\boldsymbol\\xi) & = \\phi_0(\\xi_1) \\phi_0(\\xi_2) & & = 1 \\\\\n",
    "  \\Phi_\\mathbf{1}(\\boldsymbol\\xi) & = \\phi_1(\\xi_1) \\phi_0(\\xi_2) & & = \\xi_1 \\\\\n",
    "  \\Phi_\\mathbf{2}(\\boldsymbol\\xi) & = \\phi_0(\\xi_1) \\phi_1(\\xi_2) & & = \\xi_2 \\\\\n",
    "  \\Phi_\\mathbf{3}(\\boldsymbol\\xi) & = \\phi_2(\\xi_1) \\phi_0(\\xi_2) & & = \\xi_1^2-1 \\\\\n",
    "  \\Phi_\\mathbf{4}(\\boldsymbol\\xi) & = \\phi_1(\\xi_1) \\phi_1(\\xi_2) & & = \\xi_1 \\xi_2 \\\\\n",
    "  \\Phi_\\mathbf{5}(\\boldsymbol\\xi) & = \\phi_0(\\xi_1) \\phi_2(\\xi_2) & & = \\xi_2^2-1.\n",
    "\\end{alignedat}\n",
    "\\end{equation}\n",
    "\n",
    "\n",
    "The resulting polynomial approximation is\n",
    "\\begin{equation}\n",
    "  \\hat{R}(\\boldsymbol\\xi) = \\sum_{\\boldsymbol i=\\mathbf{0}}^{\\mathbf{5}}\\alpha_\\boldsymbol i \\Phi_\\boldsymbol i(\\boldsymbol\\xi) = \\alpha_{\\mathbf{0}} \\Phi_\\mathbf{0}(\\boldsymbol\\xi) + \\alpha_{\\mathbf{1}} \\Phi_\\mathbf{1}(\\boldsymbol\\xi) + \\cdots + \\alpha_{\\mathbf{5}} \\Phi_\\mathbf{5}(\\boldsymbol\\xi).\n",
    "\\end{equation}\n",
    "\n",
    "The total number of terms in an expansion of total order \\(p\\) and involving \\(n\\) uncertain variables is given by\n",
    "\n",
    "\\begin{equation}\n",
    "\tN_{TO} = \\frac{(n+p)!}{n!p!}.\n",
    "\\end{equation}\n"
   ]
  },
  {
   "cell_type": "markdown",
   "metadata": {
    "collapsed": true
   },
   "source": [
    "### Chaospy Implementation\n",
    "\n",
    "#### Installaion\n"
   ]
  },
  {
   "cell_type": "code",
   "execution_count": null,
   "metadata": {
    "collapsed": true
   },
   "outputs": [],
   "source": [
    "pip install chaospy\n",
    "\n",
    "pip install scikit-learn\n",
    "\n",
    "# Documentation: https://media.readthedocs.org/pdf/chaospy/master/chaospy.pdf\n",
    "\n",
    "    "
   ]
  },
  {
   "cell_type": "code",
   "execution_count": 4,
   "metadata": {},
   "outputs": [
    {
     "name": "stdout",
     "output_type": "stream",
     "text": [
      "[1.0, q1, q0, -1.0+q1^2, q0q1, q0^2-1.0]\n"
     ]
    }
   ],
   "source": [
    "import numpy as np\n",
    "import chaospy as cp\n",
    "import matplotlib.pyplot as plt\n",
    "\n",
    "# create distribution for random variables\n",
    "var1 = cp.Normal(0,1)\n",
    "var2 = cp.Normal(0,1)\n",
    "\n",
    "dist = cp.J(var1, var2)   # cdf of Norormaly distributed random variables \n",
    "# dist = cp.Iid(cp.Normal(0,1), 2) # if they share the same distribution\n",
    "\n",
    "# Orthogonal Polynomial Expansion\n",
    "expansion  = cp.orth_ttr(2, dist) # second order expansion for two random variables read the docs (ttr = three term Stiltjes recursion for total order expansion) \n",
    "\n",
    "print expansion"
   ]
  },
  {
   "cell_type": "markdown",
   "metadata": {
    "collapsed": true
   },
   "source": [
    "In tensor-product expansion a per-dimension polynomial order bound \\(p_j\\) is enforced\n",
    "\n",
    "\\begin{equation}\n",
    "\t\\mathcal{I}_p = \\{\\boldsymbol i:i_j \\leq p_j, \\; j=1,\\ldots ,n \\}.\n",
    "\\end{equation}\n",
    "\n",
    "For a second-order expansion \\(p=2\\) over two uncertain dimensions \\(n=2\\), the index set is\n",
    "\\begin{equation}\n",
    "  \\mathcal{I}_p = \\left \\{\\begin{array}{c}\n",
    "\t(i_1=0,i_2=0),(i_1=1,i_2=0),(i_1=2,i_2=0),\\\\\n",
    "\t(i_1=0,i_2=1),(i_1=1,i_2=1),(i_1=2,i_2=1),\\\\\n",
    "    (i_1=0,i_2=2),(i_1=1,i_2=2),(i_1=2,i_2=2)\n",
    "\\end{array}\\right \\}\n",
    "\\end{equation}\n",
    "which produces the following multi-dimensional basis polynomials:\n",
    "\n",
    "\\begin{equation}\n",
    "\\begin{alignedat}{2}\n",
    "  \\Phi_\\mathbf{0}(\\boldsymbol\\xi) & = \\phi_0(\\xi_1) \\phi_0(\\xi_2) & & = 1 \\\\\n",
    "  \\Phi_\\mathbf{1}(\\boldsymbol\\xi) & = \\phi_1(\\xi_1) \\phi_0(\\xi_2) & & = \\xi_1 \\\\\n",
    "  \\Phi_\\mathbf{2}(\\boldsymbol\\xi) & = \\phi_2(\\xi_1) \\phi_0(\\xi_2) & & = \\xi_1^2-1 \\\\\n",
    "  \\Phi_\\mathbf{3}(\\boldsymbol\\xi) & = \\phi_0(\\xi_1) \\phi_1(\\xi_2) & & = \\xi_2 \\\\\n",
    "  \\Phi_\\mathbf{4}(\\boldsymbol\\xi) & = \\phi_1(\\xi_1) \\phi_1(\\xi_2) & & = \\xi_1 \\xi_2 \\\\\n",
    "  \\Phi_\\mathbf{5}(\\boldsymbol\\xi) & = \\phi_2(\\xi_1) \\phi_1(\\xi_2) & & = (\\xi_1^2-1)\\xi_2 \\\\\n",
    "  \\Phi_\\mathbf{6}(\\boldsymbol\\xi) & = \\phi_0(\\xi_1) \\phi_2(\\xi_2) & & = \\xi_2^2-1 \\\\\n",
    "  \\Phi_\\mathbf{7}(\\boldsymbol\\xi) & = \\phi_1(\\xi_1) \\phi_2(\\xi_2) & & = \\xi_1 (\\xi_2^2-1) \\\\\n",
    "  \\Phi_\\mathbf{8}(\\boldsymbol\\xi) & = \\phi_2(\\xi_1) \\phi_2(\\xi_2) & & = (\\xi_1^2-1) (\\xi_2^2-1).\n",
    "\\end{alignedat}\n",
    "\\end{equation}\n",
    "\n",
    "The last column depends on the type of the univariate polynomials, the $1$-dimensional Hermite polynomials that correspond to Normal uncertain variables are shown again.\n",
    "The corresponding tensor-product polynomial approximation is\n",
    "\\begin{equation}\n",
    "  \\hat{R}(\\boldsymbol\\xi) = \\sum_{\\boldsymbol i=\\mathbf{0}}^{\\mathbf{8}}\\alpha_\\boldsymbol i \\Phi_\\boldsymbol i(\\boldsymbol\\xi) = \\alpha_{\\mathbf{0}} \\Phi_\\mathbf{0}(\\boldsymbol\\xi) + \\alpha_{\\mathbf{1}} \\Phi_\\mathbf{1}(\\boldsymbol\\xi) + \\cdots + \\alpha_{\\mathbf{8}} \\Phi_\\mathbf{8}(\\boldsymbol\\xi).\n",
    "\\end{equation}\n",
    "The total number of terms for the tensor-product expansion is given by\n",
    "\\begin{equation}\n",
    "\tN_{TP} = \\prod_{i=1}^n (p_i+1).\n",
    "\\end{equation}\n",
    "\n",
    "Note that for both expansion schemes, the number of terms exhibits an exponential increase with an increase in the number of uncertain dimensions \\(n\\). The Tensor-product expansion is the preferred approach when the coefficients are computed with quadrature because of increased monomial coverage and accuracy. The Total-order expansion is the preferred approach when the coefficients are computed with regression because it keeps the sampling requirements lower[1].\n"
   ]
  },
  {
   "cell_type": "code",
   "execution_count": null,
   "metadata": {
    "collapsed": true
   },
   "outputs": [],
   "source": [
    "# Chaospy does not support tensor product expansion. Create one!"
   ]
  },
  {
   "cell_type": "markdown",
   "metadata": {},
   "source": [
    "### Mean and variance from the polynomial chaos expansion\n",
    "\n",
    "In most physics and engineering problems we are usually interested in the first two statistical moments  - mean, and varience. The statistics of the multi-dimensional polynomial chaos expansion are functions of the expansion coefficients.\n",
    "\n",
    "\\begin{equation}\n",
    "  \\mu_R = \\alpha_{\\mathbf{0}}\n",
    "\\end{equation}\n",
    "and\n",
    "\\begin{align}\n",
    "\\sigma_{R}^{2} = \\sum_{\\boldsymbol i\\in \\mathcal{I}_p\\setminus \\mathbf{\\{0\\}}}\n",
    "\\alpha_{\\boldsymbol i}^2 \\langle \\Phi_\\boldsymbol i ^2(\\boldsymbol\\xi)\\rangle,\n",
    "\\end{align}\n",
    "where $\\ 0$ is the first multi-index &mdash; the one with all zero elements.\n"
   ]
  },
  {
   "cell_type": "code",
   "execution_count": 19,
   "metadata": {},
   "outputs": [
    {
     "name": "stdout",
     "output_type": "stream",
     "text": [
      "mean: [ 0.  0.], variance: [ 1.  1.]\n"
     ]
    }
   ],
   "source": [
    "# coefficients\n",
    "q0, q1 = cp.variable(2)  # chaospy uses 'q' as the default independent variable\n",
    "\n",
    "mean = np.array([cp.E(q0, dist), cp.E(q1, dist)])    # mean/expected value\n",
    "std = np.array([cp.Std(q0, dist), cp.Std(q1, dist)])   # variance\n",
    "\n",
    "print 'mean: %s, variance: %s' % (mean, std)"
   ]
  },
  {
   "cell_type": "markdown",
   "metadata": {},
   "source": [
    "\n",
    "###  Calculating polynomial chaos coefficients\n",
    "\n",
    "\n",
    "The coefficients of the polynomial chaos expansion\n",
    "\n",
    "\\begin{equation}\n",
    "  R(\\boldsymbol \\xi) \\approx \\hat{R}(\\boldsymbol \\xi) = \\sum_{\\boldsymbol i\\in \\mathcal{I}_p} \\alpha_\\boldsymbol i \\Phi_\\boldsymbol i(\\boldsymbol \\xi).\n",
    "  \\end{equation}\n",
    "\n",
    "can be calculated via quadrature or by linear regression. The quadrature approach is also known as non-intrusive spectral projection, spectral projection, pseudospectral, stochastic Galerkin, etc. The regression approach is sometimes also referred to as stochastic response surfaces, point collocation or compressed sensing.\n",
    "\n",
    "\n",
    "#### Quadrature\n",
    "To obtain the coefficients of the polynomial chaos expansion\n",
    "\n",
    "\\begin{equation}\n",
    "  R(\\boldsymbol \\xi) = \\sum_{\\boldsymbol i\\in \\mathcal{I}_p}  \\alpha_\\boldsymbol i \\Phi_\\boldsymbol i(\\boldsymbol \\xi),\n",
    "\\end{equation}\n",
    "\n",
    "via quadrature, we take the inner product of both sides with respect to $\\ \\Phi_\\mathbf{j}(\\boldsymbol \\xi)$ to yield\n",
    "\n",
    "\\begin{equation}\n",
    "  \\langle R,\\Phi_\\mathbf{j}\\rangle = \\sum_{\\boldsymbol i\\in \\mathcal{I}_p}  \\alpha_\\boldsymbol i  \\langle\\Phi_\\boldsymbol i, \\Phi_\\mathbf{j}\\rangle.\n",
    "\\end{equation}\n",
    "\n",
    "Making use of the orthogonality of the polynomials\n",
    "\n",
    "\\begin{equation}\n",
    "  \\langle\\Phi_\\boldsymbol i, \\Phi_\\mathbf{j}\\rangle =\n",
    "  \\begin{cases}\n",
    "    0 & \\text{for } i\\neq j \\\\\n",
    "\t\\langle\\Phi_\\boldsymbol i, \\Phi_\\boldsymbol i\\rangle =\n",
    "      \\langle\\Phi_\\boldsymbol i^2\\rangle & \\text{for } i = j.\n",
    "  \\end{cases}\n",
    "\\end{equation}\n",
    "\n",
    "and solving for the coefficients, we obtain\n",
    "\n",
    "\\begin{equation}\n",
    "  \\alpha_\\boldsymbol i = \\frac{\\langle R(\\boldsymbol \\xi),\\Phi_\\boldsymbol i(\\boldsymbol \\xi)\\rangle}{\\langle\\Phi_\\boldsymbol i^2(\\boldsymbol \\xi)\\rangle} =\n",
    "  \\frac{1}{{\\langle\\Phi_\\boldsymbol i^2(\\boldsymbol \\xi)\\rangle}}\n",
    "  \\int_\\Omega R(\\boldsymbol \\xi) \\Phi_\\boldsymbol i(\\boldsymbol \\xi) \\rho(\\boldsymbol \\xi)\\, d\\boldsymbol \\xi,\n",
    "\\end{equation}\n",
    "\n",
    "where the domain of $\\ \\Omega$ is the Cartesian product of $1D$ domains $\\ \\Omega_j$ for each dimension, $\\ \\Omega = \\Omega_1 \\times \\cdots \\times \\Omega_n$, and $\\ \\rho(\\boldsymbol \\xi) = \\prod_{j=1}^n\\rho_j(\\xi_j)$ is the joint probability density of the stochastic parameters. Most of the computational expense in solving for the coefficients resides in evaluating the model $\\ R(\\boldsymbol \\xi)$ in the multi-dimensional integral\n",
    "\n",
    "\\begin{equation}\n",
    "  \\int_\\Omega R(\\boldsymbol \\xi) \\Phi_\\boldsymbol i(\\boldsymbol \\xi)\n",
    "  \\rho(\\boldsymbol \\xi)\\, d\\boldsymbol \\xi.\n",
    "\\end{equation}\n",
    "\n",
    "This integral is solved with quadrature (numerical integration).  We discuss two multi-dimensional quadrature approaches, tensor product quadrature and sparse grid quadrature.\n",
    "Note that the zero coefficient in reduces to the definition of the mean\n",
    "\n",
    "\\begin{equation}\n",
    "  \\mu_R = \\alpha_0 = \\int_\\Omega R(\\boldsymbol \\xi) \\rho(\\boldsymbol \\xi)\\, d\\boldsymbol \\xi,\n",
    "\\end{equation}\n",
    "\n",
    "which the direct numerical integration methods attempt to compute directly.\n",
    "\n",
    "\n",
    "#### Regression\n",
    "\n",
    "To obtain the coefficients of the polynomial chaos expansion\n",
    "\n",
    "\\begin{equation}\n",
    "  R(\\boldsymbol \\xi) = \\sum_{\\boldsymbol i\\in \\mathcal{I}_p}  \\alpha_\\boldsymbol i \\Phi_\\boldsymbol i(\\boldsymbol \\xi),\n",
    "\\end{equation}\n",
    "\n",
    "via regression, we construct a linear system\n",
    "\n",
    "\\begin{equation}\n",
    "  \\boldsymbol \\Phi \\boldsymbol \\alpha = R\n",
    "\\end{equation}\n",
    "\n",
    "and solve for the coefficients $\\ \\boldsymbol \\alpha$ that best represent a set of responses $R$. The set of responses is generated by evaluating the model at $m$ uncertain vectors $\\ \\boldsymbol \\xi$. The uncertain vectors are most commonly chosen by sampling the density of the uncertain variables. Different sampling methods can be used.\n",
    "\n",
    "%or you can picked them to be the quadrature points which under certain conditions the coefficients obtained from the regression will be the same as from quadrature. I think the machine learning book has some details.\n",
    "\n",
    "Each row of the matrix $\\ \\boldsymbol \\Phi$ contains the orthogonal polynomials $\\ \\Phi_\\boldsymbol j$ evaluated at a sample $\\ \\boldsymbol \\xi_i$\n",
    "\n",
    "\n",
    "\n",
    "\\begin{equation}\n",
    "  \\begin{bmatrix}\n",
    "    \\Phi_\\mathbf{0}(\\boldsymbol \\xi_1) & \\cdots & \\Phi_\\mathbf{n-1}(\\boldsymbol \\xi_1) \\\\\n",
    "    \\vdots & \\ddots & \\vdots \\\\\n",
    "    \\Phi_\\mathbf{0}(\\boldsymbol \\xi_m)  &\\cdots & \\Phi_\\mathbf{n-1}(\\boldsymbol \\xi_m)\n",
    "  \\end{bmatrix}\n",
    "  \\begin{bmatrix}\n",
    "    \\alpha_0 \\\\\n",
    "    \\vdots \\\\\n",
    "    \\alpha_{n-1}\n",
    "    \\end{bmatrix}\n",
    "    =\n",
    "  \\begin{bmatrix}\n",
    "    R_1 \\\\\n",
    "    \\vdots \\\\\n",
    "    R_m\n",
    "  \\end{bmatrix}.\n",
    "\\end{equation}\n",
    "\n",
    "The size of the $\\ m \\times n$ matrix is determined by the number of samples $m$ and by how the polynomial chaos expansion is truncated which results in $n$ terms. It is common to specify a total order expansion along with a collocation ratio\\footnote{Collocation ratio derives from collocation points which some authors use to refer to the sample points.} $\\ cr = m/n$ to determine the number of samples $m$. The collocation ratio determines if the system is overdetermined $\\ cr > 1$ or underdetermined $\\ cr < 1$.\n",
    "\n",
    "The most popular method to estimate the coefficients is \\textit{least squares}, in which we pick coefficients $\\ \\boldsymbol \\alpha=(\\alpha_0, \\alpha_1, \\dots, \\alpha_{n-1})$ that minimize the residual sum of squares\n",
    "\n",
    "\\begin{equation}\n",
    "  \\boldsymbol \\alpha = \\text{arg min } ||\\boldsymbol \\Phi\\boldsymbol \\alpha - R||_2^2.\n",
    "\\end{equation}\n",
    "\n",
    "This problem has a closed-form solution obtained by solving the normal equations~\\citep{Trefethench111997}\n",
    "\n",
    "\\begin{equation}\n",
    "  \\boldsymbol \\alpha = {(\\boldsymbol \\Phi^T \\boldsymbol \\Phi)}^{-1} \\boldsymbol \\Phi^T R.\n",
    "\\end{equation}\n",
    "\n",
    "For underdetermined systems, \\cref{eq:linearsystem} has many solutions and we need to further constrain the problem. This can be done be setting a constraint on the coefficients\n",
    "\n",
    "\\begin{equation}\n",
    "  \\boldsymbol \\alpha = \\text{arg min } ||\\boldsymbol \\Phi\\boldsymbol \\alpha - R||_2^2, \\qquad \\text{such that } ||\\boldsymbol \\alpha||_p \\leq t.\n",
    "\\end{equation}\n",
    "\n",
    "This constrained problem is equivalent to the regularized least squares problem\n",
    "\n",
    "\\begin{equation}\n",
    "  \\boldsymbol \\alpha = \\text{arg min } ||\\boldsymbol \\Phi\\boldsymbol \\alpha - R||_2^2 + \\lambda ||\\boldsymbol \\alpha||_p^p.\n",
    " \\end{equation}\n",
    "\n",
    "#### Example problem\n",
    "\n",
    "\n",
    "\\begin{equation}\n",
    "\\ U(x) = Ie^{-ax}\\\\\n",
    "\\ where \\quad a \\sim U(0, 0.1), \\quad and \\quad I\\sim U(8,10)\n",
    "\\end{equation}"
   ]
  },
  {
   "cell_type": "code",
   "execution_count": 81,
   "metadata": {},
   "outputs": [
    {
     "name": "stdout",
     "output_type": "stream",
     "text": [
      "21\n"
     ]
    },
    {
     "data": {
      "image/png": "[encoded data removed]",
      "text/plain": [
       "<matplotlib.figure.Figure at 0x7f6e1c057e90>"
      ]
     },
     "metadata": {},
     "output_type": "display_data"
    }
   ],
   "source": [
    "import chaospy as cp\n",
    "import numpy as np\n",
    "import matplotlib.pyplot as plt\n",
    "\n",
    "# The model\n",
    "def U(x, a, I):\n",
    "    return I*np.exp(-a*x)\n",
    "\n",
    "x = np.linspace(0, 10, 1000)\n",
    "\n",
    "\n",
    "# Distributions:\n",
    "a = cp.Uniform(0, 0.1)\n",
    "I = cp.Uniform(8, 10)\n",
    "dist = cp.J(a, I)        # Joint distibution\n",
    "\n",
    "\n",
    "# Monte Carlo for comparison\n",
    "samples = dist.sample(10**5)  \n",
    "U_mc = [U(x, *s) for s in samples.T]\n",
    "\n",
    "mean_mc = np.mean(U_mc, 0)\n",
    "var_mc = np.var(U_mc, 0)\n",
    "# print \"Mean_mc\",mean\n",
    "\n",
    "\n",
    "# Pseudo-Spectral projection\n",
    "order = 5\n",
    "poly1, norms = cp.orth_ttr(order, dist, retall=True)                #polynomila and norms\n",
    "nodes, weights = cp.generate_quadrature(order+1, dist, rule=\"G\")    # nodes and weights for gaissian quadrature\n",
    "\n",
    "solves = [U(x, s[0], s[1]) for s in nodes.T]\n",
    "U_hat = cp.fit_quadrature(poly1, nodes, weights, solves, norms=norms)\n",
    "\n",
    "mean_psp = cp.E(U_hat, dist)\n",
    "var_psp = cp.Var(U_hat, dist)\n",
    "\n",
    "\n",
    "# Regression\n",
    "order = 5\n",
    "poly2 = cp.orth_ttr(order, dist)\n",
    "nodes2 = dist.sample(2*len(poly2), \"H\")\n",
    "solves = [U(x, s[0], s[1]) for s in nodes2.T]\n",
    "U_hat = cp.fit_regression(poly2, nodes2, solves, rule=\"T\")\n",
    "\n",
    "print len(poly2)\n",
    "mean_reg = cp.E(U_hat, dist)\n",
    "var_reg = cp.Var(U_hat, dist)\n",
    "\n",
    "plt.figure(1)\n",
    "plt.plot(x, mean_psp, \"k--\", label=\"mean_psp\")\n",
    "plt.plot(x, mean_reg, \"r\", label=\"mean_reg\")\n",
    "plt.plot(x, mean_mc, \"y\", label=\"mean_mc\")\n",
    "plt.xlabel(\"x\")\n",
    "plt.ylabel(\"mean\")\n",
    "plt.legend()\n",
    "plt.show()\n"
   ]
  },
  {
   "cell_type": "code",
   "execution_count": 84,
   "metadata": {},
   "outputs": [
    {
     "data": {
      "image/png": "[encoded data removed]",
      "text/plain": [
       "<matplotlib.figure.Figure at 0x7f6e1d7f6290>"
      ]
     },
     "metadata": {},
     "output_type": "display_data"
    }
   ],
   "source": [
    "error1 = np.abs(mean_psp - mean_mc)\n",
    "error2 = np.abs(mean_reg - mean_mc)\n",
    "\n",
    "plt.plot(x, error1, label=\"quadrature\")\n",
    "plt.plot(x, error2, label=\"regression\")\n",
    "plt.xlabel(\"x\")\n",
    "plt.ylabel(\"absolute error\")\n",
    "plt.legend()\n",
    "plt.show()\n",
    "\n",
    "# print error"
   ]
  },
  {
   "cell_type": "markdown",
   "metadata": {
    "collapsed": true
   },
   "source": [
    "## References\n",
    "\n",
    "[1] A. Santiago Padrón, PJ Stanley, Jared Thomas, Juan J. Alonso, and Andrew Ning: Polynomial chaos to efficiently compute the annual energy production in wind farm layout optimization, 2017.\n",
    "\n",
    "[2] Dongbin Xui. Numerical Methods for Stochastic Computations.\n",
    "\n",
    "[3]  Sarkar, Sunetra, and Jeroen A. S Witteveen. Uncertainty Quantification In Computational Science."
   ]
  }
 ],
 "metadata": {
  "kernelspec": {
   "display_name": "Python 2",
   "language": "python",
   "name": "python2"
  },
  "language_info": {
   "codemirror_mode": {
    "name": "ipython",
    "version": 2
   },
   "file_extension": ".py",
   "mimetype": "text/x-python",
   "name": "python",
   "nbconvert_exporter": "python",
   "pygments_lexer": "ipython2",
   "version": "2.7.14"
  }
 },
 "nbformat": 4,
 "nbformat_minor": 2
}
